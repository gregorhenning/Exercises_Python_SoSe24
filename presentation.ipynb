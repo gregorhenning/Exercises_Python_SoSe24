{
 "cells": [
  {
   "cell_type": "code",
   "execution_count": 123,
   "id": "c5f66662-3683-40f5-a347-a95198948621",
   "metadata": {},
   "outputs": [],
   "source": [
    "import pandas as pd"
   ]
  },
  {
   "cell_type": "code",
   "execution_count": 124,
   "id": "d851283c-2e32-4678-91ee-d01aa2211c16",
   "metadata": {},
   "outputs": [],
   "source": [
    "import matplotlib.pyplot as plt"
   ]
  },
  {
   "cell_type": "code",
   "execution_count": 125,
   "id": "c17b286d-453f-4b4d-bc03-9825c422ffb7",
   "metadata": {},
   "outputs": [
    {
     "data": {
      "text/html": [
       "<div>\n",
       "<style scoped>\n",
       "    .dataframe tbody tr th:only-of-type {\n",
       "        vertical-align: middle;\n",
       "    }\n",
       "\n",
       "    .dataframe tbody tr th {\n",
       "        vertical-align: top;\n",
       "    }\n",
       "\n",
       "    .dataframe thead th {\n",
       "        text-align: right;\n",
       "    }\n",
       "</style>\n",
       "<table border=\"1\" class=\"dataframe\">\n",
       "  <thead>\n",
       "    <tr style=\"text-align: right;\">\n",
       "      <th></th>\n",
       "      <th>Alter;Einkommen;Preis;Geschlecht;Zeit;KundeNr</th>\n",
       "    </tr>\n",
       "  </thead>\n",
       "  <tbody>\n",
       "    <tr>\n",
       "      <th>0</th>\n",
       "      <td>64;66894.0;88160.31;1.0;43.0;K0310</td>\n",
       "    </tr>\n",
       "    <tr>\n",
       "      <th>1</th>\n",
       "      <td>54;77644.0;103145.7;1.0;40.0;K1042</td>\n",
       "    </tr>\n",
       "    <tr>\n",
       "      <th>2</th>\n",
       "      <td>55;44341.0;80565.16;0.0;37.0;K0382</td>\n",
       "    </tr>\n",
       "    <tr>\n",
       "      <th>3</th>\n",
       "      <td>49;67271.0;83949.89;0.0;42.0;K0498</td>\n",
       "    </tr>\n",
       "    <tr>\n",
       "      <th>4</th>\n",
       "      <td>46;49832.0;93781.58;0.0;41.0;K0552</td>\n",
       "    </tr>\n",
       "  </tbody>\n",
       "</table>\n",
       "</div>"
      ],
      "text/plain": [
       "  Alter;Einkommen;Preis;Geschlecht;Zeit;KundeNr\n",
       "0            64;66894.0;88160.31;1.0;43.0;K0310\n",
       "1            54;77644.0;103145.7;1.0;40.0;K1042\n",
       "2            55;44341.0;80565.16;0.0;37.0;K0382\n",
       "3            49;67271.0;83949.89;0.0;42.0;K0498\n",
       "4            46;49832.0;93781.58;0.0;41.0;K0552"
      ]
     },
     "execution_count": 125,
     "metadata": {},
     "output_type": "execute_result"
    }
   ],
   "source": [
    "file = 'data/kunden.csv'\n",
    "\n",
    "df = pd.read_csv(file, decimal = \" \" )\n",
    "\n",
    "df.head()\n",
    "\n"
   ]
  },
  {
   "cell_type": "code",
   "execution_count": 126,
   "id": "f722ab3f-2145-45f3-952c-e90f14593901",
   "metadata": {},
   "outputs": [],
   "source": [
    "df.to_csv('data/kunden_neu.csv', sep = \";\")"
   ]
  },
  {
   "cell_type": "code",
   "execution_count": 127,
   "id": "31976906-c62a-4d8c-81f1-1b24a4fd886f",
   "metadata": {},
   "outputs": [
    {
     "data": {
      "text/html": [
       "<div>\n",
       "<style scoped>\n",
       "    .dataframe tbody tr th:only-of-type {\n",
       "        vertical-align: middle;\n",
       "    }\n",
       "\n",
       "    .dataframe tbody tr th {\n",
       "        vertical-align: top;\n",
       "    }\n",
       "\n",
       "    .dataframe thead th {\n",
       "        text-align: right;\n",
       "    }\n",
       "</style>\n",
       "<table border=\"1\" class=\"dataframe\">\n",
       "  <thead>\n",
       "    <tr style=\"text-align: right;\">\n",
       "      <th></th>\n",
       "      <th>Alter;Einkommen;Preis;Geschlecht;Zeit;KundeNr</th>\n",
       "    </tr>\n",
       "  </thead>\n",
       "  <tbody>\n",
       "    <tr>\n",
       "      <th>0</th>\n",
       "      <td>64;66894.0;88160.31;1.0;43.0;K0310</td>\n",
       "    </tr>\n",
       "    <tr>\n",
       "      <th>1</th>\n",
       "      <td>54;77644.0;103145.7;1.0;40.0;K1042</td>\n",
       "    </tr>\n",
       "    <tr>\n",
       "      <th>2</th>\n",
       "      <td>55;44341.0;80565.16;0.0;37.0;K0382</td>\n",
       "    </tr>\n",
       "    <tr>\n",
       "      <th>3</th>\n",
       "      <td>49;67271.0;83949.89;0.0;42.0;K0498</td>\n",
       "    </tr>\n",
       "    <tr>\n",
       "      <th>4</th>\n",
       "      <td>46;49832.0;93781.58;0.0;41.0;K0552</td>\n",
       "    </tr>\n",
       "  </tbody>\n",
       "</table>\n",
       "</div>"
      ],
      "text/plain": [
       "  Alter;Einkommen;Preis;Geschlecht;Zeit;KundeNr\n",
       "0            64;66894.0;88160.31;1.0;43.0;K0310\n",
       "1            54;77644.0;103145.7;1.0;40.0;K1042\n",
       "2            55;44341.0;80565.16;0.0;37.0;K0382\n",
       "3            49;67271.0;83949.89;0.0;42.0;K0498\n",
       "4            46;49832.0;93781.58;0.0;41.0;K0552"
      ]
     },
     "execution_count": 127,
     "metadata": {},
     "output_type": "execute_result"
    }
   ],
   "source": [
    "df.head()"
   ]
  },
  {
   "cell_type": "code",
   "execution_count": 128,
   "id": "29dfee65-a5e2-47c4-a9e9-5810f5f35043",
   "metadata": {},
   "outputs": [
    {
     "data": {
      "text/plain": [
       "Alter;Einkommen;Preis;Geschlecht;Zeit;KundeNr    0\n",
       "dtype: int64"
      ]
     },
     "execution_count": 128,
     "metadata": {},
     "output_type": "execute_result"
    }
   ],
   "source": [
    "df.isnull().sum()"
   ]
  },
  {
   "cell_type": "code",
   "execution_count": 129,
   "id": "3752e276-ae19-4a63-8887-134d7995bbaa",
   "metadata": {},
   "outputs": [
    {
     "data": {
      "text/html": [
       "<div>\n",
       "<style scoped>\n",
       "    .dataframe tbody tr th:only-of-type {\n",
       "        vertical-align: middle;\n",
       "    }\n",
       "\n",
       "    .dataframe tbody tr th {\n",
       "        vertical-align: top;\n",
       "    }\n",
       "\n",
       "    .dataframe thead th {\n",
       "        text-align: right;\n",
       "    }\n",
       "</style>\n",
       "<table border=\"1\" class=\"dataframe\">\n",
       "  <thead>\n",
       "    <tr style=\"text-align: right;\">\n",
       "      <th></th>\n",
       "      <th>Alter;Einkommen;Preis;Geschlecht;Zeit;KundeNr</th>\n",
       "    </tr>\n",
       "  </thead>\n",
       "  <tbody>\n",
       "    <tr>\n",
       "      <th>0</th>\n",
       "      <td>64;66894.0;88160.31;1.0;43.0;K0310</td>\n",
       "    </tr>\n",
       "    <tr>\n",
       "      <th>1</th>\n",
       "      <td>54;77644.0;103145.7;1.0;40.0;K1042</td>\n",
       "    </tr>\n",
       "    <tr>\n",
       "      <th>2</th>\n",
       "      <td>55;44341.0;80565.16;0.0;37.0;K0382</td>\n",
       "    </tr>\n",
       "    <tr>\n",
       "      <th>3</th>\n",
       "      <td>49;67271.0;83949.89;0.0;42.0;K0498</td>\n",
       "    </tr>\n",
       "    <tr>\n",
       "      <th>4</th>\n",
       "      <td>46;49832.0;93781.58;0.0;41.0;K0552</td>\n",
       "    </tr>\n",
       "    <tr>\n",
       "      <th>...</th>\n",
       "      <td>...</td>\n",
       "    </tr>\n",
       "    <tr>\n",
       "      <th>1099</th>\n",
       "      <td>70;69581.0;103751.58;1.0;51.0;K0467</td>\n",
       "    </tr>\n",
       "    <tr>\n",
       "      <th>1100</th>\n",
       "      <td>38;48301.0;64230.98;1.0;33.0;K0122</td>\n",
       "    </tr>\n",
       "    <tr>\n",
       "      <th>1101</th>\n",
       "      <td>67;63547.0;103123.57;1.0;41.0;K1045</td>\n",
       "    </tr>\n",
       "    <tr>\n",
       "      <th>1102</th>\n",
       "      <td>37;32686.0;49215.87;1.0;36.0;K1096</td>\n",
       "    </tr>\n",
       "    <tr>\n",
       "      <th>1103</th>\n",
       "      <td>55;71240.0;106132.59;1.0;49.0;K0861</td>\n",
       "    </tr>\n",
       "  </tbody>\n",
       "</table>\n",
       "<p>1104 rows × 1 columns</p>\n",
       "</div>"
      ],
      "text/plain": [
       "     Alter;Einkommen;Preis;Geschlecht;Zeit;KundeNr\n",
       "0               64;66894.0;88160.31;1.0;43.0;K0310\n",
       "1               54;77644.0;103145.7;1.0;40.0;K1042\n",
       "2               55;44341.0;80565.16;0.0;37.0;K0382\n",
       "3               49;67271.0;83949.89;0.0;42.0;K0498\n",
       "4               46;49832.0;93781.58;0.0;41.0;K0552\n",
       "...                                            ...\n",
       "1099           70;69581.0;103751.58;1.0;51.0;K0467\n",
       "1100            38;48301.0;64230.98;1.0;33.0;K0122\n",
       "1101           67;63547.0;103123.57;1.0;41.0;K1045\n",
       "1102            37;32686.0;49215.87;1.0;36.0;K1096\n",
       "1103           55;71240.0;106132.59;1.0;49.0;K0861\n",
       "\n",
       "[1104 rows x 1 columns]"
      ]
     },
     "execution_count": 129,
     "metadata": {},
     "output_type": "execute_result"
    }
   ],
   "source": [
    "df.dropna(inplace = True)\n",
    "df.reset_index(drop=True, inplace = True)\n",
    "df"
   ]
  }
 ],
 "metadata": {
  "kernelspec": {
   "display_name": "Python 3 (ipykernel)",
   "language": "python",
   "name": "python3"
  },
  "language_info": {
   "codemirror_mode": {
    "name": "ipython",
    "version": 3
   },
   "file_extension": ".py",
   "mimetype": "text/x-python",
   "name": "python",
   "nbconvert_exporter": "python",
   "pygments_lexer": "ipython3",
   "version": "3.11.7"
  }
 },
 "nbformat": 4,
 "nbformat_minor": 5
}
